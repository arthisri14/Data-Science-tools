{
 "cells": [
  {
   "cell_type": "code",
   "execution_count": 1,
   "id": "1630e99c",
   "metadata": {},
   "outputs": [],
   "source": [
    "#Data Science Tools and Ecosystem"
   ]
  },
  {
   "cell_type": "code",
   "execution_count": null,
   "id": "48d23b23",
   "metadata": {},
   "outputs": [],
   "source": [
    "In this notebook, Data Science Tools and Ecosystem are summarized."
   ]
  },
  {
   "cell_type": "code",
   "execution_count": null,
   "id": "d60fc9d0",
   "metadata": {},
   "outputs": [],
   "source": [
    "Some of the popular languages that Data Scientists use are:\n",
    "    1. Python\n",
    "    2. R programming\n",
    "    3. Julia\n",
    "    4. Scala\n",
    "    5. Java\n",
    "    6. Javascript"
   ]
  },
  {
   "cell_type": "code",
   "execution_count": null,
   "id": "02ddd362",
   "metadata": {},
   "outputs": [],
   "source": [
    "Some of the commonly used libraries used by Data Scientists include:\n",
    "    1. pandas\n",
    "    2. numpy\n",
    "    3. scikit learn\n",
    "    4. tensorflow\n",
    "    5. matplotlib\n",
    "    6. pyTorch"
   ]
  },
  {
   "cell_type": "code",
   "execution_count": null,
   "id": "03c2e93c",
   "metadata": {},
   "outputs": [],
   "source": [
    "|Data Science Tools|\n",
    "|:----------------:|\n",
    "|Apache Spark      |\n",
    "|BigML             |\n",
    "|Python            |\n",
    "|Matplotlib        |"
   ]
  },
  {
   "cell_type": "code",
   "execution_count": 3,
   "id": "c7efc208",
   "metadata": {},
   "outputs": [],
   "source": [
    "###Below are a few examples of evaluating arithmetic expressions in Python"
   ]
  },
  {
   "cell_type": "code",
   "execution_count": null,
   "id": "47b6cc19",
   "metadata": {},
   "outputs": [],
   "source": [
    "##This a simple arithmetic expression to mutiply then add integers"
   ]
  },
  {
   "cell_type": "code",
   "execution_count": 5,
   "id": "7a8ed047",
   "metadata": {},
   "outputs": [
    {
     "data": {
      "text/plain": [
       "17"
      ]
     },
     "execution_count": 5,
     "metadata": {},
     "output_type": "execute_result"
    }
   ],
   "source": [
    "(3*4)+5\n"
   ]
  },
  {
   "cell_type": "code",
   "execution_count": null,
   "id": "3df98785",
   "metadata": {},
   "outputs": [],
   "source": [
    " ##This will convert 200 minutes to hours by diving by 60"
   ]
  },
  {
   "cell_type": "code",
   "execution_count": 7,
   "id": "ce1ed3e4",
   "metadata": {},
   "outputs": [
    {
     "name": "stdout",
     "output_type": "stream",
     "text": [
      "3\n"
     ]
    }
   ],
   "source": [
    "minutes = 200 % 60\n",
    "hours = 200 // 60\n",
    "print(hours)"
   ]
  },
  {
   "cell_type": "code",
   "execution_count": null,
   "id": "f195936f",
   "metadata": {},
   "outputs": [],
   "source": [
    "**Objective:**"
   ]
  },
  {
   "cell_type": "code",
   "execution_count": null,
   "id": "006818b6",
   "metadata": {},
   "outputs": [],
   "source": [
    "- Python\n",
    "- SQL\n",
    "- Java\n",
    "- Javascript\n",
    "- Julia"
   ]
  },
  {
   "cell_type": "code",
   "execution_count": 9,
   "id": "6ed7b9e0",
   "metadata": {},
   "outputs": [],
   "source": [
    "##Author\n",
    "Arthi Sri"
   ]
  },
  {
   "cell_type": "code",
   "execution_count": null,
   "id": "5e3eee81",
   "metadata": {},
   "outputs": [],
   "source": []
  }
 ],
 "metadata": {
  "kernelspec": {
   "display_name": "Python 3 (ipykernel)",
   "language": "python",
   "name": "python3"
  },
  "language_info": {
   "codemirror_mode": {
    "name": "ipython",
    "version": 3
   },
   "file_extension": ".py",
   "mimetype": "text/x-python",
   "name": "python",
   "nbconvert_exporter": "python",
   "pygments_lexer": "ipython3",
   "version": "3.9.13"
  }
 },
 "nbformat": 4,
 "nbformat_minor": 5
}
